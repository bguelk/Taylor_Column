{
 "cells": [
  {
   "cell_type": "code",
   "execution_count": 2,
   "metadata": {},
   "outputs": [],
   "source": [
    "import numpy as np\n",
    "from numpy import sin, pi, exp\n",
    "import matplotlib.pyplot as plt\n",
    "import xarray as xr\n",
    "import gsw\n",
    "import xgcm\n",
    "import cmocean.cm as cmo"
   ]
  },
  {
   "cell_type": "code",
   "execution_count": 3,
   "metadata": {},
   "outputs": [],
   "source": [
    "#constants through out this notebook\n",
    "g=9.81\n",
    "f=gsw.f(-65) \n",
    "alpha0=1e-4\n",
    "rho0=1035"
   ]
  },
  {
   "cell_type": "code",
   "execution_count": 4,
   "metadata": {},
   "outputs": [
    {
     "name": "stdout",
     "output_type": "stream",
     "text": [
      "-5000.0\n",
      "5\n"
     ]
    }
   ],
   "source": [
    "dr=np.array(50*np.ones(100))\n",
    "np.sum(dr) \n",
    "dr.shape\n",
    "len(dr)\n",
    "\n",
    "nx = 300\n",
    "ny = 200\n",
    "nr = len(dr)\n",
    "rF = (np.insert(np.cumsum(dr),0,0)) # z-coordinates of vertical cell faces\n",
    "z = np.diff(rF)/2 + rF[:-1]         # z-coordinates of vertical cell centers\n",
    "H = -np.sum(dr)  \n",
    "print(H)\n",
    "# bathymetry -- flat bottom of depth H (m) with idealized mid-depth ridge\n",
    "bump_max = 3000.   # peak height of ridge above flat bottom depth\n",
    "bathy = H * np.ones([ny, nx])\n",
    "bump = np.zeros([ny, nx])\n",
    "# gaussian bump in the center of domain\n",
    "# horizontal resoluiton in km 5\n",
    "dx=5\n",
    "dy=5\n",
    "X=np.arange(0,nx*dx,dx)\n",
    "Y=np.arange(0,ny*dx,dy)\n",
    "[x,y] = np.meshgrid(X,Y)\n",
    "# create a topography with a bump in the center to trigger a Taylor Column\n",
    "X0=150*dx\n",
    "Y0=100*dx;\n",
    "width=20*dx;\n",
    "bump=(H+bump_max*np.exp(-((x-X0)**2+(y-Y0)**2)/width**2))\n",
    "\n",
    "print(dx)\n",
    "bathy =  bump;  \n",
    "bathy[0,:] = 0.                     # wall at southern boundary\n",
    "bathy[ny-1,:] = 0. \n",
    "bathy.astype('>f4').tofile(f'bump{np.int(np.abs(H))}_{len(dr)}_{dx}km.bin')\n",
    "\n"
   ]
  },
  {
   "cell_type": "markdown",
   "metadata": {},
   "source": [
    "# 20 layer case"
   ]
  },
  {
   "cell_type": "code",
   "execution_count": 5,
   "metadata": {},
   "outputs": [
    {
     "data": {
      "text/plain": [
       "<matplotlib.colorbar.Colorbar at 0x7f281955e100>"
      ]
     },
     "execution_count": 5,
     "metadata": {},
     "output_type": "execute_result"
    },
    {
     "data": {
      "image/png": "[encoded data removed]",
      "text/plain": [
       "<Figure size 432x432 with 2 Axes>"
      ]
     },
     "metadata": {
      "needs_background": "light"
     },
     "output_type": "display_data"
    }
   ],
   "source": [
    "# add 20 vertical temperature layers\n",
    "Tprof=np.linspace(5,4.05,20)    \n",
    "Tprof100=np.zeros(100)+5\n",
    "for zz in range(1,20):\n",
    "    zini=zz*5\n",
    "    Tprof100[zini:zini+5]=Tprof[zz]\n",
    "# make the profile to a 3D field\n",
    "Tini_field = np.zeros((nx,ny,nr))+Tprof100\n",
    "Tini=Tini_field.T\n",
    "\n",
    "plt.figure(figsize=(6,6))\n",
    "cb=plt.pcolormesh(Tini[:,15,:])\n",
    "plt.colorbar(cb)"
   ]
  },
  {
   "cell_type": "code",
   "execution_count": 7,
   "metadata": {},
   "outputs": [
    {
     "name": "stdout",
     "output_type": "stream",
     "text": [
      "(100, 200)\n",
      "(100, 200, 300)\n",
      "(300, 100, 200)\n",
      "20ldTdy: (100, 200, 300)\n",
      "<xarray.DataArray 'U_at_T_point' ()>\n",
      "array(-0.01584309)\n",
      "Coordinates:\n",
      "    x        int64 59\n",
      "(300, 100, 200)\n"
     ]
    },
    {
     "data": {
      "image/png": "[encoded data removed]",
      "text/plain": [
       "<Figure size 432x288 with 2 Axes>"
      ]
     },
     "metadata": {
      "needs_background": "light"
     },
     "output_type": "display_data"
    }
   ],
   "source": [
    "\n",
    "# add to the linear stratification a meridional gradient, but keep the meridional average as in the 20 equal layers\n",
    "T_20l_dTdy=np.zeros((100,ny))\n",
    "print(T_20l_dTdy.shape)\n",
    "for zz in range(0,100):\n",
    "        #T_20l_dTdy[zz,:]=Tprof100[zz]+(0.2*Tprof100[zz]/ny)*(-19.5+Y/dy)\n",
    "        T_20l_dTdy[zz,:]=Tprof100[zz]+(0.2*Tprof100[zz]/40)*(-19.5+Y/25)\n",
    "        \n",
    "T_20l_dTdy_ini=np.repeat(T_20l_dTdy[ :, :,np.newaxis], nx, axis=2)\n",
    "print(T_20l_dTdy_ini.shape)\n",
    "T_dTdy_3d=np.repeat(T_20l_dTdy[np.newaxis, :, :], nx, axis=0)\n",
    "print(T_dTdy_3d.shape)\n",
    "T_20l_dTdy_ini.astype('>f4').tofile(f'T5000_ini20l_wdTdy_tw_{len(dr)}_{dx}km.bin')\n",
    "T_dTdy_3d.astype('>f4').tofile(f'T5000_obcs20l_wdTdy_tw_{len(dr)}_{dx}km.bin')\n",
    "T_dTdy_3d=np.transpose(T_dTdy_3d,(1,2,0))\n",
    "\n",
    "print('20ldTdy:',T_dTdy_3d.shape)\n",
    "# compute pressure and density\n",
    "\n",
    "rho=rho0- rho0*alpha0*T_dTdy_3d\n",
    "\n",
    "ds = xr.Dataset()\n",
    "ds['rho'] = (('z', 'y', 'x'), rho)\n",
    "ds = ds.assign_coords(x=ds.x, y=ds.y, z=ds.z)\n",
    "ds.x.attrs['axis'] = 'X'\n",
    "ds.y.attrs['axis'] = 'Y'\n",
    "ds.z.attrs['axis'] = 'Z'\n",
    "ds = xgcm.generate_grid_ds(ds, {'X':'x', 'Y':'y', 'Z':'z'})\n",
    "grid = xgcm.Grid(ds, periodic=False)\n",
    "ds['dr'] = ('z', dr)\n",
    "rev = -1*(g/f)*grid.cumsum(\n",
    "    (\n",
    "        grid.interp(1/ds.rho, 'Y', boundary='extend') * grid.diff(ds.rho, 'Y', boundary='extend') / (dy*10**3)\n",
    "    ) * ds.dr,\n",
    "    'Z',\n",
    "    boundary='fill',\n",
    "    fill_value=0\n",
    ")\n",
    "velocity = rev.isel(z_left=-1) - rev\n",
    "ds['U_at_T_point'] = grid.interp(velocity, ['Y', 'Z'], boundary='extend')\n",
    "ds['U_at_T_point'].mean('x').plot(y='z', yincrease=False)\n",
    "print(ds.U_at_T_point.isel(x=59).mean(dim={'y','z'}))\n",
    "\n",
    "U_tw=np.asarray(ds.U_at_T_point.transpose(\"x\", \"z\", \"y\"))\n",
    "print(U_tw.shape)\n",
    "U_tw.astype('>f4').tofile(f'Uvel5000_tw_20lwdTdy_xzy_{len(dr)}_{dx}km.bin') # I assume the x dimension is read as t dimension "
   ]
  },
  {
   "cell_type": "code",
   "execution_count": null,
   "metadata": {},
   "outputs": [],
   "source": []
  }
 ],
 "metadata": {
  "kernelspec": {
   "display_name": "Python 3",
   "language": "python",
   "name": "python3"
  },
  "language_info": {
   "codemirror_mode": {
    "name": "ipython",
    "version": 3
   },
   "file_extension": ".py",
   "mimetype": "text/x-python",
   "name": "python",
   "nbconvert_exporter": "python",
   "pygments_lexer": "ipython3",
   "version": "3.8.5"
  }
 },
 "nbformat": 4,
 "nbformat_minor": 4
}
