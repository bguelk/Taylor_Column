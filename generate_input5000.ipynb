{
 "cells": [
  {
   "cell_type": "code",
   "execution_count": 1,
   "metadata": {},
   "outputs": [],
   "source": [
    "import numpy as np\n",
    "from numpy import sin, pi, exp\n",
    "import matplotlib.pyplot as plt\n",
    "import xarray as xr\n",
    "import gsw\n",
    "import xgcm\n",
    "import cmocean.cm as cmo"
   ]
  },
  {
   "cell_type": "code",
   "execution_count": 2,
   "metadata": {},
   "outputs": [],
   "source": [
    "#constants through out this notebook\n",
    "g=9.81\n",
    "f=gsw.f(-65) \n",
    "alpha0=1e-4\n",
    "rho0=1035"
   ]
  },
  {
   "cell_type": "code",
   "execution_count": 3,
   "metadata": {},
   "outputs": [
    {
     "name": "stdout",
     "output_type": "stream",
     "text": [
      "-5000.0\n",
      "25\n"
     ]
    }
   ],
   "source": [
    "dr=np.array(50*np.ones(100))\n",
    "np.sum(dr) \n",
    "dr.shape\n",
    "len(dr)\n",
    "\n",
    "nx = 60\n",
    "ny = 40\n",
    "nr = len(dr)\n",
    "rF = (np.insert(np.cumsum(dr),0,0)) # z-coordinates of vertical cell faces\n",
    "z = np.diff(rF)/2 + rF[:-1]         # z-coordinates of vertical cell centers\n",
    "H = -np.sum(dr)  \n",
    "print(H)\n",
    "# bathymetry -- flat bottom of depth H (m) with idealized mid-depth ridge\n",
    "bump_max = 3000.   # peak height of ridge above flat bottom depth\n",
    "bathy = H * np.ones([ny, nx])\n",
    "bump = np.zeros([ny, nx])\n",
    "# gaussian bump in the center of domain\n",
    "# horizontal resoluiton in km 25\n",
    "dx=25\n",
    "dy=25\n",
    "X=np.arange(0,nx*dx,dx)\n",
    "Y=np.arange(0,ny*dx,dy)\n",
    "[x,y] = np.meshgrid(X,Y)\n",
    "# create a topography with a bump in the center to trigger a Taylor Column\n",
    "X0=30*dx\n",
    "Y0=20*dx;\n",
    "width=4*dx;\n",
    "bump=(H+bump_max*np.exp(-((x-X0)**2+(y-Y0)**2)/width**2))\n",
    "\n",
    "print(dx)\n",
    "bathy =  bump;  \n",
    "bathy[0,:] = 0.                     # wall at southern boundary\n",
    "bathy[ny-1,:] = 0. \n",
    "bathy.astype('>f4').tofile(f'bump{np.int(np.abs(H))}_{len(dr)}_{dx}km.bin')\n",
    "\n"
   ]
  },
  {
   "cell_type": "markdown",
   "metadata": {},
   "source": [
    "# barotropic inflow case A"
   ]
  },
  {
   "cell_type": "code",
   "execution_count": 4,
   "metadata": {},
   "outputs": [],
   "source": [
    "# 3-D U velocity field for initial conditions and RBCS eastern and western wall profile\n",
    "u0=-0.1*np.ones((nx,ny,nr))\n",
    "U_3D = np.reshape(u0, [nr,ny,nx]) \n",
    "U_3D.astype('>f4').tofile(f'Uvel_{len(dr)}.bin')"
   ]
  },
  {
   "cell_type": "code",
   "execution_count": 5,
   "metadata": {},
   "outputs": [],
   "source": [
    "# 3-D U velocity field for initial conditions and RBCS eastern and western wall profile\n",
    "u0=-0.5*np.ones((nx,ny,nr))\n",
    "U_3D = np.reshape(u0, [nr,ny,nx]) \n",
    "U_3D.astype('>f4').tofile(f'Uvel05_{len(dr)}.bin')"
   ]
  },
  {
   "cell_type": "markdown",
   "metadata": {},
   "source": [
    "# 20 layer case"
   ]
  },
  {
   "cell_type": "code",
   "execution_count": 4,
   "metadata": {},
   "outputs": [
    {
     "data": {
      "text/plain": [
       "<matplotlib.colorbar.Colorbar at 0x7fc596d8f820>"
      ]
     },
     "execution_count": 4,
     "metadata": {},
     "output_type": "execute_result"
    },
    {
     "data": {
      "image/png": "[encoded data removed]",
      "text/plain": [
       "<Figure size 432x432 with 2 Axes>"
      ]
     },
     "metadata": {
      "needs_background": "light"
     },
     "output_type": "display_data"
    }
   ],
   "source": [
    "# add 20 vertical temperature layers\n",
    "Tprof=np.linspace(5,4.05,20)    \n",
    "Tprof100=np.zeros(100)+5\n",
    "for zz in range(1,20):\n",
    "    zini=zz*5\n",
    "    Tprof100[zini:zini+5]=Tprof[zz]\n",
    "# make the profile to a 3D field\n",
    "Tini_field = np.zeros((nx,ny,nr))+Tprof100\n",
    "Tini=Tini_field.T\n",
    "\n",
    "plt.figure(figsize=(6,6))\n",
    "cb=plt.pcolormesh(Tini[:,15,:])\n",
    "plt.colorbar(cb)"
   ]
  },
  {
   "cell_type": "code",
   "execution_count": 6,
   "metadata": {},
   "outputs": [
    {
     "name": "stdout",
     "output_type": "stream",
     "text": [
      "(100, 40)\n",
      "(100, 40, 60)\n",
      "(60, 100, 40)\n",
      "20ldTdy: (100, 40, 60)\n",
      "<xarray.DataArray 'U_at_T_point' ()>\n",
      "array(-0.01568425)\n",
      "Coordinates:\n",
      "    x        int64 59\n",
      "(60, 100, 40)\n"
     ]
    },
    {
     "data": {
      "image/png": "[encoded data removed]",
      "text/plain": [
       "<Figure size 432x288 with 2 Axes>"
      ]
     },
     "metadata": {
      "needs_background": "light"
     },
     "output_type": "display_data"
    }
   ],
   "source": [
    "\n",
    "# add to the linear stratification a meridional gradient, but keep the meridional average as in the 20 equal layers\n",
    "T_20l_dTdy=np.zeros((100,40))\n",
    "print(T_20l_dTdy.shape)\n",
    "for zz in range(0,100):\n",
    "        #T_20l_dTdy[zz,:]=Tprof100[zz]+(Tprof100[zz]/ny)*(-19.5+Y/dy)\n",
    "        T_20l_dTdy[zz,:]=Tprof100[zz]+(0.2*Tprof100[zz]/ny)*(-19.5+Y/dy)\n",
    "        \n",
    "T_20l_dTdy_ini=np.repeat(T_20l_dTdy[ :, :,np.newaxis], nx, axis=2)\n",
    "print(T_20l_dTdy_ini.shape)\n",
    "T_dTdy_3d=np.repeat(T_20l_dTdy[np.newaxis, :, :], nx, axis=0)\n",
    "print(T_dTdy_3d.shape)\n",
    "T_20l_dTdy_ini.astype('>f4').tofile(f'T5000_ini20l_wdTdy_tw_{len(dr)}_25km.bin')\n",
    "T_dTdy_3d.astype('>f4').tofile(f'T5000_obcs20l_wdTdy_tw_{len(dr)}_25km.bin')\n",
    "T_dTdy_3d=np.transpose(T_dTdy_3d,(1,2,0))\n",
    "\n",
    "print('20ldTdy:',T_dTdy_3d.shape)\n",
    "# compute pressure and density\n",
    "\n",
    "rho=rho0- rho0*alpha0*T_dTdy_3d\n",
    "\n",
    "ds = xr.Dataset()\n",
    "ds['rho'] = (('z', 'y', 'x'), rho)\n",
    "ds = ds.assign_coords(x=ds.x, y=ds.y, z=ds.z)\n",
    "ds.x.attrs['axis'] = 'X'\n",
    "ds.y.attrs['axis'] = 'Y'\n",
    "ds.z.attrs['axis'] = 'Z'\n",
    "ds = xgcm.generate_grid_ds(ds, {'X':'x', 'Y':'y', 'Z':'z'})\n",
    "grid = xgcm.Grid(ds, periodic=False)\n",
    "ds['dr'] = ('z', dr)\n",
    "rev = -1*(g/f)*grid.cumsum(\n",
    "    (\n",
    "        grid.interp(1/ds.rho, 'Y', boundary='extend') * grid.diff(ds.rho, 'Y', boundary='extend') / (dy*10**3)\n",
    "    ) * ds.dr,\n",
    "    'Z',\n",
    "    boundary='fill',\n",
    "    fill_value=0\n",
    ")\n",
    "velocity = rev.isel(z_left=-1) - rev\n",
    "ds['U_at_T_point'] = grid.interp(velocity, ['Y', 'Z'], boundary='extend')\n",
    "ds['U_at_T_point'].mean('x').plot(y='z', yincrease=False)\n",
    "print(ds.U_at_T_point.isel(x=59).mean(dim={'y','z'}))\n",
    "\n",
    "U_tw=np.asarray(ds.U_at_T_point.transpose(\"x\", \"z\", \"y\"))\n",
    "print(U_tw.shape)\n",
    "U_tw.astype('>f4').tofile(f'Uvel5000_tw_20lwdTdy_xzy_{len(dr)}_25km.bin') # I assume the x dimension is read as t dimension "
   ]
  },
  {
   "cell_type": "code",
   "execution_count": 7,
   "metadata": {},
   "outputs": [
    {
     "data": {
      "text/plain": [
       "<matplotlib.colorbar.Colorbar at 0x7fc596c043d0>"
      ]
     },
     "execution_count": 7,
     "metadata": {},
     "output_type": "execute_result"
    },
    {
     "data": {
      "image/png": "[encoded data removed]",
      "text/plain": [
       "<Figure size 432x288 with 2 Axes>"
      ]
     },
     "metadata": {
      "needs_background": "light"
     },
     "output_type": "display_data"
    }
   ],
   "source": [
    "plt.pcolormesh(T_dTdy_3d[:,:,59])\n",
    "plt.colorbar()"
   ]
  },
  {
   "cell_type": "code",
   "execution_count": 8,
   "metadata": {},
   "outputs": [
    {
     "name": "stdout",
     "output_type": "stream",
     "text": [
      "0.01\n",
      "-0.025684251579973772\n",
      "(60, 100, 40)\n",
      "1\n",
      "0.02\n",
      "-0.035684251579973784\n",
      "(60, 100, 40)\n",
      "2\n",
      "0.05\n",
      "-0.06568425157997378\n",
      "(60, 100, 40)\n",
      "5\n",
      "0.08\n",
      "-0.09568425157997379\n",
      "(60, 100, 40)\n",
      "8\n",
      "0.1\n",
      "-0.11568425157997378\n",
      "(60, 100, 40)\n",
      "0.12\n",
      "-0.13568425157997377\n",
      "(60, 100, 40)\n",
      "0.15\n",
      "-0.1656842515799737\n",
      "(60, 100, 40)\n",
      "0.18\n",
      "-0.1956842515799738\n",
      "(60, 100, 40)\n",
      "0.2\n",
      "-0.21568425157997378\n",
      "(60, 100, 40)\n",
      "0.25\n",
      "-0.2656842515799738\n",
      "(60, 100, 40)\n"
     ]
    }
   ],
   "source": [
    "# add to the thermal wind different barotropic components\n",
    "ubaro=[0.01,0.02,0.05,0.08]\n",
    "\n",
    "for i in range (0,len(ubaro)):\n",
    "    print(ubaro[i])\n",
    "    U_utw=U_tw-ubaro[i]\n",
    "    print(U_utw[59,:,:].mean(axis=1).mean(axis=0))\n",
    "    print(U_utw.shape)\n",
    "    print(np.int(ubaro[i]*100))\n",
    "    U_utw.astype('>f4').tofile(f'Uvel{np.abs(np.int(H))}_u00{np.int(ubaro[i]*100)}tw_20lwdTdy_xzy_{len(dr)}_{dx}km.bin') # I assume the x dimension is read as t dimension \n",
    "    \n",
    "ubaro=[0.10,0.12,0.15,0.18,0.20,0.25]\n",
    "\n",
    "for i in range (0,len(ubaro)):\n",
    "    print(ubaro[i])\n",
    "    U_utw=U_tw-ubaro[i]\n",
    "    print(U_utw[59,:,:].mean(axis=1).mean(axis=0))\n",
    "    print(U_utw.shape)\n",
    "    U_utw.astype('>f4').tofile(f'Uvel{np.abs(np.int(H))}_u0{np.int(ubaro[i]*100)}tw_20lwdTdy_xzy_{len(dr)}_{dx}km.bin') # I assume the x dimension is read as t dimension "
   ]
  },
  {
   "cell_type": "code",
   "execution_count": 9,
   "metadata": {},
   "outputs": [
    {
     "data": {
      "text/plain": [
       "(100, 40, 60)"
      ]
     },
     "execution_count": 9,
     "metadata": {},
     "output_type": "execute_result"
    }
   ],
   "source": [
    "T_dTdy_3d.shape"
   ]
  },
  {
   "cell_type": "code",
   "execution_count": 10,
   "metadata": {},
   "outputs": [
    {
     "data": {
      "text/plain": [
       "3.655125"
      ]
     },
     "execution_count": 10,
     "metadata": {},
     "output_type": "execute_result"
    }
   ],
   "source": []
  },
  {
   "cell_type": "code",
   "execution_count": 11,
   "metadata": {},
   "outputs": [
    {
     "data": {
      "text/plain": [
       "5.4875"
      ]
     },
     "execution_count": 11,
     "metadata": {},
     "output_type": "execute_result"
    }
   ],
   "source": [
    "T_dTdy_3d[:,:,59].max()"
   ]
  },
  {
   "cell_type": "code",
   "execution_count": 14,
   "metadata": {},
   "outputs": [
    {
     "data": {
      "text/plain": [
       "3.655125"
      ]
     },
     "execution_count": 14,
     "metadata": {},
     "output_type": "execute_result"
    }
   ],
   "source": []
  },
  {
   "cell_type": "code",
   "execution_count": 34,
   "metadata": {},
   "outputs": [
    {
     "data": {
      "text/plain": [
       "1.8323749999999999"
      ]
     },
     "execution_count": 34,
     "metadata": {},
     "output_type": "execute_result"
    }
   ],
   "source": [
    "T_dTdy_3d[:,:,59].max()-T_dTdy_3d[:,:,59].min()"
   ]
  },
  {
   "cell_type": "markdown",
   "metadata": {},
   "source": [
    "# e-scale "
   ]
  },
  {
   "cell_type": "code",
   "execution_count": 25,
   "metadata": {},
   "outputs": [
    {
     "name": "stdout",
     "output_type": "stream",
     "text": [
      "(100, 40, 60)\n"
     ]
    },
    {
     "data": {
      "image/png": "[encoded data removed]",
      "text/plain": [
       "<Figure size 432x288 with 2 Axes>"
      ]
     },
     "metadata": {
      "needs_background": "light"
     },
     "output_type": "display_data"
    }
   ],
   "source": [
    "Tmax = T_dTdy_3d[:,:,:].max()\n",
    "Tmin = T_dTdy_3d[:,:,:].min()\n",
    "\n",
    "\n",
    "#Tmax = 10.\n",
    "#Tmin = 1.\n",
    "# 3-D Temperature field for initial conditions and RBCS northern wall profile\n",
    "h = 1000             # e-folding scale for temperature decrease with depth\n",
    "T_surf = np.zeros([ny, nx]) + np.reshape(\n",
    "            Tmin + (Tmax-Tmin)/ny * np.linspace(0.5,39.5,ny),[ny,1]) # at (XC,YC) points\n",
    "zscale = (exp(-z/h) - exp(H/h)) / (1 - exp(H/h))\n",
    "zscale = np.reshape(zscale, [nr,1,1])\n",
    "T_3D = np.reshape(T_surf - Tmin, [1,ny,nx]) * zscale + Tmin\n",
    "print(T_3D.shape)\n",
    "plt.pcolormesh(T_3D[:,:,10])\n",
    "plt.colorbar()\n",
    "\n",
    "plt.gca().invert_yaxis()\n",
    "\n",
    "\n",
    "T_3D.astype('>f4').tofile(f'T{np.abs(np.int(H))}_ini_escale_{Tmin}_{Tmax}_tw_{len(dr)}_25km.bin')\n"
   ]
  },
  {
   "cell_type": "code",
   "execution_count": 26,
   "metadata": {},
   "outputs": [
    {
     "name": "stdout",
     "output_type": "stream",
     "text": [
      "(100, 40, 60)\n"
     ]
    }
   ],
   "source": [
    "# create boundary files for obcs with dimension t(=x),z,y\n",
    "print(T_3D.shape)\n",
    "Tobcstw=np.transpose(T_3D,(2,0,1))\n",
    "Tobcstw.shape\n",
    "\n",
    "Tobcstw.astype('>f4').tofile(f'T{np.abs(np.int(H))}_obcs_escale_{Tmin}_{Tmax}_tw_{len(dr)}_25km.bin')"
   ]
  },
  {
   "cell_type": "code",
   "execution_count": 27,
   "metadata": {},
   "outputs": [
    {
     "name": "stdout",
     "output_type": "stream",
     "text": [
      "(100, 40, 60)\n"
     ]
    },
    {
     "name": "stderr",
     "output_type": "stream",
     "text": [
      "<ipython-input-27-17d041605e4e>:6: MatplotlibDeprecationWarning: shading='flat' when X and Y have the same dimensions as C is deprecated since 3.3.  Either specify the corners of the quadrilaterals with X and Y, or pass shading='auto', 'nearest' or 'gouraud', or set rcParams['pcolor.shading'].  This will become an error two minor releases later.\n",
      "  plt.pcolormesh(Y,z,rho[:,:,59])\n"
     ]
    },
    {
     "data": {
      "text/plain": [
       "Text(0, 0.5, 'Depth [m]')"
      ]
     },
     "execution_count": 27,
     "metadata": {},
     "output_type": "execute_result"
    },
    {
     "data": {
      "image/png": "[encoded data removed]",
      "text/plain": [
       "<Figure size 432x288 with 2 Axes>"
      ]
     },
     "metadata": {
      "needs_background": "light"
     },
     "output_type": "display_data"
    }
   ],
   "source": [
    "# compute density from T_field using a linear eos\n",
    "rho=rho0- rho0*alpha0*T_3D\n",
    "\n",
    "print(rho.shape)\n",
    "plt.figure()\n",
    "plt.pcolormesh(Y,z,rho[:,:,59])\n",
    "plt.colorbar()\n",
    "plt.contour(Y,z[:],T_3D[:,:,59])\n",
    "plt.gca().invert_yaxis()\n",
    "plt.xlabel('Y-distance [km]')\n",
    "plt.ylabel('Depth [m]')"
   ]
  },
  {
   "cell_type": "code",
   "execution_count": 28,
   "metadata": {},
   "outputs": [
    {
     "data": {
      "image/png": "[encoded data removed]",
      "text/plain": [
       "<Figure size 432x288 with 2 Axes>"
      ]
     },
     "metadata": {
      "needs_background": "light"
     },
     "output_type": "display_data"
    }
   ],
   "source": [
    "ds = xr.Dataset()\n",
    "ds['rho'] = (('z', 'y', 'x'), rho)\n",
    "ds = ds.assign_coords(x=ds.x, y=ds.y, z=ds.z)\n",
    "ds.x.attrs['axis'] = 'X'\n",
    "ds.y.attrs['axis'] = 'Y'\n",
    "ds.z.attrs['axis'] = 'Z'\n",
    "ds = xgcm.generate_grid_ds(ds, {'X':'x', 'Y':'y', 'Z':'z'})\n",
    "grid = xgcm.Grid(ds, periodic=False)\n",
    "\n",
    "ds['dr'] = ('z', dr)\n",
    "rev = -1*(g/f)*grid.cumsum(\n",
    "    (\n",
    "        grid.interp(1/ds.rho, 'Y', boundary='extend') * grid.diff(ds.rho, 'Y', boundary='extend') / (dy*10**3)\n",
    "    ) * ds.dr,\n",
    "    'Z',\n",
    "    boundary='fill',\n",
    "    fill_value=0\n",
    ")\n",
    "velocity = rev.isel(z_left=-1) - rev\n",
    "ds['U_at_T_point'] = grid.interp(velocity, ['Y', 'Z'], boundary='extend')\n",
    "ds['U_at_T_point'].mean('x').plot(y='z', yincrease=False)\n",
    "velo_rho=velocity"
   ]
  },
  {
   "cell_type": "code",
   "execution_count": 16,
   "metadata": {},
   "outputs": [
    {
     "data": {
      "image/png": "[encoded data removed]",
      "text/plain": [
       "<Figure size 432x288 with 1 Axes>"
      ]
     },
     "metadata": {
      "needs_background": "light"
     },
     "output_type": "display_data"
    }
   ],
   "source": [
    "ds.rho.mean(dim={'x','y'}).plot(y='z')\n",
    "plt.gca().invert_yaxis()\n",
    "plt.grid()"
   ]
  },
  {
   "cell_type": "code",
   "execution_count": 31,
   "metadata": {},
   "outputs": [
    {
     "name": "stdout",
     "output_type": "stream",
     "text": [
      "(60, 100, 40)\n"
     ]
    }
   ],
   "source": [
    "U_tw=np.asarray(ds.U_at_T_point.transpose(\"x\", \"z\", \"y\"))\n",
    "print(U_tw.shape)\n",
    "U_tw.astype('>f4').tofile(f'Uvel5000_escale_{Tmin}_{Tmax}_tw_xzy_{len(dr)}_25km.bin') # I assume the x dimension is read as t dimension \n"
   ]
  },
  {
   "cell_type": "code",
   "execution_count": 32,
   "metadata": {},
   "outputs": [
    {
     "name": "stdout",
     "output_type": "stream",
     "text": [
      "(60, 100, 40)\n"
     ]
    }
   ],
   "source": [
    "U_u01tw=np.asarray(ds.U_at_T_point.transpose(\"x\", \"z\", \"y\"))-0.1\n",
    "print(U_u01tw.shape)\n",
    "U_u01tw.astype('>f4').tofile(f'Uvel5000_escale_{Tmin}_{Tmax}_u01tw_xzy_{len(dr)}_25km.bin') # I assume the x dimension is read as t dimension "
   ]
  },
  {
   "cell_type": "code",
   "execution_count": 33,
   "metadata": {},
   "outputs": [
    {
     "name": "stderr",
     "output_type": "stream",
     "text": [
      "<ipython-input-33-80b18caf7ea7>:1: MatplotlibDeprecationWarning: shading='flat' when X and Y have the same dimensions as C is deprecated since 3.3.  Either specify the corners of the quadrilaterals with X and Y, or pass shading='auto', 'nearest' or 'gouraud', or set rcParams['pcolor.shading'].  This will become an error two minor releases later.\n",
      "  plt.pcolormesh(Y,z,U_u01tw[59,:,:])\n"
     ]
    },
    {
     "data": {
      "text/plain": [
       "<matplotlib.colorbar.Colorbar at 0x7fc595329310>"
      ]
     },
     "execution_count": 33,
     "metadata": {},
     "output_type": "execute_result"
    },
    {
     "data": {
      "image/png": "[encoded data removed]",
      "text/plain": [
       "<Figure size 432x288 with 2 Axes>"
      ]
     },
     "metadata": {
      "needs_background": "light"
     },
     "output_type": "display_data"
    }
   ],
   "source": [
    "plt.pcolormesh(Y,z,U_u01tw[59,:,:])\n",
    "plt.colorbar()"
   ]
  },
  {
   "cell_type": "code",
   "execution_count": null,
   "metadata": {},
   "outputs": [],
   "source": []
  },
  {
   "cell_type": "code",
   "execution_count": null,
   "metadata": {},
   "outputs": [],
   "source": []
  },
  {
   "cell_type": "code",
   "execution_count": null,
   "metadata": {},
   "outputs": [],
   "source": []
  }
 ],
 "metadata": {
  "kernelspec": {
   "display_name": "Python 3",
   "language": "python",
   "name": "python3"
  },
  "language_info": {
   "codemirror_mode": {
    "name": "ipython",
    "version": 3
   },
   "file_extension": ".py",
   "mimetype": "text/x-python",
   "name": "python",
   "nbconvert_exporter": "python",
   "pygments_lexer": "ipython3",
   "version": "3.8.5"
  }
 },
 "nbformat": 4,
 "nbformat_minor": 4
}
