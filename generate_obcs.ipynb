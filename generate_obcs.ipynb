{
 "cells": [
  {
   "cell_type": "code",
   "execution_count": 1,
   "metadata": {},
   "outputs": [],
   "source": [
    "import numpy as np\n",
    "from numpy import sin, pi, exp\n",
    "import matplotlib.pyplot as plt\n",
    "import xarray as xr\n",
    "import xgcm\n",
    "import gsw"
   ]
  },
  {
   "cell_type": "markdown",
   "metadata": {},
   "source": [
    "# General Domain size"
   ]
  },
  {
   "cell_type": "code",
   "execution_count": 2,
   "metadata": {},
   "outputs": [
    {
     "name": "stdout",
     "output_type": "stream",
     "text": [
      "-5000.0\n"
     ]
    }
   ],
   "source": [
    "# horizontal grid cells\n",
    "nx = 60\n",
    "ny = 40\n",
    "\n",
    "# choose vertical resolution\n",
    "dr=np.array(50*np.ones(100))\n",
    "nr = len(dr)\n",
    "rF = (np.insert(np.cumsum(dr),0,0)) # z-coordinates of vertical cell faces\n",
    "z = np.diff(rF)/2 + rF[:-1]         # z-coordinates of vertical cell centers\n",
    "H = -np.sum(dr)  \n",
    "print(H)\n",
    "# horizontal resoluiton in km 25\n",
    "dx=25\n",
    "dy=25\n",
    "X=np.arange(0,nx*dx,dx)\n",
    "Y=np.arange(0,ny*dx,dy)"
   ]
  },
  {
   "cell_type": "markdown",
   "metadata": {},
   "source": [
    "# Velocity boundary condition"
   ]
  },
  {
   "cell_type": "code",
   "execution_count": 3,
   "metadata": {},
   "outputs": [
    {
     "name": "stdout",
     "output_type": "stream",
     "text": [
      "(100, 40, 60)\n"
     ]
    },
    {
     "data": {
      "text/plain": [
       "<matplotlib.colorbar.Colorbar at 0x7ff44ae707f0>"
      ]
     },
     "execution_count": 3,
     "metadata": {},
     "output_type": "execute_result"
    },
    {
     "data": {
      "image/png": "[encoded data removed]",
      "text/plain": [
       "<Figure size 432x432 with 2 Axes>"
      ]
     },
     "metadata": {
      "needs_background": "light"
     },
     "output_type": "display_data"
    }
   ],
   "source": [
    "# 3-D U velocity field for initial conditions and RBCS eastern and western wall profile\n",
    "u0=-0.1*np.ones((nx,ny,nr))\n",
    "U_3D = np.reshape(u0, [nr,ny,nx]) \n",
    "print(U_3D.shape)\n",
    "U_3D.astype('>f4').tofile(f'Uvel_{len(dr)}.bin')\n",
    "plt.figure(figsize=(6,6))\n",
    "cb=plt.pcolormesh(np.arange(0,nx+1,1),np.arange(0,ny+1,1),U_3D[5,:,:])\n",
    "plt.colorbar(cb)"
   ]
  },
  {
   "cell_type": "code",
   "execution_count": 4,
   "metadata": {},
   "outputs": [
    {
     "name": "stdout",
     "output_type": "stream",
     "text": [
      "(900, 100, 40)\n"
     ]
    }
   ],
   "source": [
    "## step function \n",
    "ts=24*30\n",
    "Ueast1=-0.1*np.ones((np.int(0.25*ts),nr,ny))\n",
    "Ueast2=-0.2*np.ones((np.int(0.25*ts),nr,ny))\n",
    "\n",
    "Ueast3=-0.5*np.ones((np.int(0.25*ts),nr,ny))\n",
    "\n",
    "\n",
    "Ueast=np.concatenate((Ueast1,Ueast2,Ueast1,Ueast3,Ueast1))\n",
    "print(Ueast.shape)\n",
    "Ueast.astype('>f4').tofile(f'./OB_EastU_step_{ts}_{len(dr)}.bin')"
   ]
  },
  {
   "cell_type": "markdown",
   "metadata": {},
   "source": [
    "# Initial T-field and T-field to restore to 20 layer case"
   ]
  },
  {
   "cell_type": "code",
   "execution_count": 5,
   "metadata": {},
   "outputs": [
    {
     "data": {
      "text/plain": [
       "<matplotlib.colorbar.Colorbar at 0x7ff44b2da790>"
      ]
     },
     "execution_count": 5,
     "metadata": {},
     "output_type": "execute_result"
    },
    {
     "data": {
      "image/png": "[encoded data removed]",
      "text/plain": [
       "<Figure size 432x288 with 1 Axes>"
      ]
     },
     "metadata": {
      "needs_background": "light"
     },
     "output_type": "display_data"
    },
    {
     "data": {
      "image/png": "[encoded data removed]",
      "text/plain": [
       "<Figure size 432x432 with 2 Axes>"
      ]
     },
     "metadata": {
      "needs_background": "light"
     },
     "output_type": "display_data"
    }
   ],
   "source": [
    "#create vertical T-profile\n",
    "Tprof=np.linspace(5,4.05,20)    \n",
    "Tprof100=np.zeros(100)+5\n",
    "for zz in range(1,20):\n",
    "    zini=zz*5\n",
    "    Tprof100[zini:zini+5]=Tprof[zz]\n",
    "Tprof100\n",
    "\n",
    "sigma0=gsw.sigma0((np.zeros((Tprof100).shape))+30,Tprof100)\n",
    "plt.plot(sigma0,z)\n",
    "plt.grid()\n",
    "# make the profile to a 3D field\n",
    "Tini_field = np.zeros((nx,ny,nr))+Tprof100\n",
    "Tini=Tini_field.T\n",
    "\n",
    "plt.figure(figsize=(6,6))\n",
    "cb=plt.pcolormesh(Tini[:,20,:])\n",
    "plt.colorbar(cb)"
   ]
  },
  {
   "cell_type": "code",
   "execution_count": 6,
   "metadata": {},
   "outputs": [
    {
     "name": "stdout",
     "output_type": "stream",
     "text": [
      "(100, 40, 60)\n"
     ]
    }
   ],
   "source": [
    "# create boundary files for obcs with dimension t(=x),z,y\n",
    "print(Tini.shape)\n",
    "Tini.astype('>f4').tofile(f'T{np.abs(np.int(H))}_ini20l_{len(dr)}_25km.bin')\n",
    "Tobcs=np.transpose(Tini,(2,0,1))\n",
    "Tobcs.shape\n",
    "\n",
    "Tobcs.astype('>f4').tofile(f'T{np.abs(np.int(H))}_obcs20l_{len(dr)}_25km.bin')"
   ]
  },
  {
   "cell_type": "code",
   "execution_count": 7,
   "metadata": {},
   "outputs": [
    {
     "name": "stdout",
     "output_type": "stream",
     "text": [
      "(100, 40)\n",
      "(100, 40, 60)\n"
     ]
    },
    {
     "data": {
      "text/plain": [
       "(60, 100, 40)"
      ]
     },
     "execution_count": 7,
     "metadata": {},
     "output_type": "execute_result"
    }
   ],
   "source": [
    "# add to the linear stratification a meridional gradient, but keep the meridional average as in the 20 equal layers\n",
    "T_20l_dTdy=np.zeros((100,40))\n",
    "print(T_20l_dTdy.shape)\n",
    "for zz in range(0,100):\n",
    "        T_20l_dTdy[zz,:]=Tprof100[zz]+(0.2*Tprof100[zz]/ny)*(-19.5+Y/dy)\n",
    "        \n",
    "T_20l_dTdy_ini=np.repeat(T_20l_dTdy[ :, :,np.newaxis], nx, axis=2)\n",
    "print(T_20l_dTdy_ini.shape)\n",
    "T_dTdy_3d=np.repeat(T_20l_dTdy[np.newaxis, :, :], nx, axis=0)\n",
    "T_dTdy_3d.shape"
   ]
  },
  {
   "cell_type": "code",
   "execution_count": 8,
   "metadata": {},
   "outputs": [],
   "source": [
    "T_20l_dTdy_ini.astype('>f4').tofile(f'T{np.abs(np.int(H))}_ini20l_wdTdy_{len(dr)}_25km.bin')\n",
    "T_dTdy_3d.astype('>f4').tofile(f'T{np.abs(np.int(H))}_obcs20l_wdTdy_{len(dr)}_25km.bin')"
   ]
  },
  {
   "cell_type": "code",
   "execution_count": 9,
   "metadata": {},
   "outputs": [
    {
     "name": "stdout",
     "output_type": "stream",
     "text": [
      "(60, 100, 40)\n",
      "(60, 100, 40)\n"
     ]
    },
    {
     "data": {
      "text/plain": [
       "Text(0.5, 1.0, 'meridional average')"
      ]
     },
     "execution_count": 9,
     "metadata": {},
     "output_type": "execute_result"
    },
    {
     "data": {
      "image/png": "[encoded data removed]",
      "text/plain": [
       "<Figure size 720x288 with 5 Axes>"
      ]
     },
     "metadata": {
      "needs_background": "light"
     },
     "output_type": "display_data"
    }
   ],
   "source": [
    "print(Tobcs.shape)\n",
    "print(T_dTdy_3d.shape)\n",
    "\n",
    "fig,axes=plt.subplots(1,3,figsize=(10,4),gridspec_kw={'width_ratios':[1,1,1]})\n",
    "cb=axes[0].pcolormesh(Tobcs[59,:,:])\n",
    "axes[0].invert_yaxis()\n",
    "plt.colorbar(cb,ax=axes[0]) \n",
    "axes[0].set_title('20layers')\n",
    "\n",
    "cb=axes[1].pcolormesh(T_dTdy_3d[59,:,:])\n",
    "axes[1].invert_yaxis()\n",
    "axes[1].set_title('add a linear meridional gradient')\n",
    "plt.colorbar(cb,ax=axes[1]) \n",
    "\n",
    "axes[2].plot(Tobcs.mean(axis=2)[59,:],np.arange(0,100,1),color='r',label='20layers')\n",
    "axes[2].plot(T_dTdy_3d.mean(axis=2)[59,:],np.arange(0,100,1),color='b',ls=':',label='add a gradient')\n",
    "axes[2].set_ylim(0,100)\n",
    "axes[2].invert_yaxis()\n",
    "axes[2].grid()\n",
    "axes[2].set_title('meridional average')"
   ]
  },
  {
   "cell_type": "code",
   "execution_count": 10,
   "metadata": {},
   "outputs": [
    {
     "name": "stdout",
     "output_type": "stream",
     "text": [
      "5.4875\n",
      "3.655125\n"
     ]
    }
   ],
   "source": [
    "print(T_dTdy_3d.max())\n",
    "print(T_dTdy_3d.min())"
   ]
  },
  {
   "cell_type": "code",
   "execution_count": 11,
   "metadata": {},
   "outputs": [
    {
     "data": {
      "text/plain": [
       "array([4.5125, 4.5375, 4.5625, 4.5875, 4.6125, 4.6375, 4.6625, 4.6875,\n",
       "       4.7125, 4.7375, 4.7625, 4.7875, 4.8125, 4.8375, 4.8625, 4.8875,\n",
       "       4.9125, 4.9375, 4.9625, 4.9875, 5.0125, 5.0375, 5.0625, 5.0875,\n",
       "       5.1125, 5.1375, 5.1625, 5.1875, 5.2125, 5.2375, 5.2625, 5.2875,\n",
       "       5.3125, 5.3375, 5.3625, 5.3875, 5.4125, 5.4375, 5.4625, 5.4875])"
      ]
     },
     "execution_count": 11,
     "metadata": {},
     "output_type": "execute_result"
    }
   ],
   "source": [
    "T_dTdy_3d[0,0,:]"
   ]
  },
  {
   "cell_type": "code",
   "execution_count": 12,
   "metadata": {},
   "outputs": [
    {
     "name": "stdout",
     "output_type": "stream",
     "text": [
      "(60, 100, 40)\n"
     ]
    },
    {
     "data": {
      "text/plain": [
       "(100, 40, 60)"
      ]
     },
     "execution_count": 12,
     "metadata": {},
     "output_type": "execute_result"
    }
   ],
   "source": [
    "print(T_dTdy_3d.shape)\n",
    "np.transpose(T_dTdy_3d,(1,2,0)).shape"
   ]
  },
  {
   "cell_type": "code",
   "execution_count": 13,
   "metadata": {},
   "outputs": [
    {
     "name": "stdout",
     "output_type": "stream",
     "text": [
      "(60, 40, 100)\n",
      "(60, 100, 40)\n"
     ]
    },
    {
     "data": {
      "image/png": "[encoded data removed]",
      "text/plain": [
       "<Figure size 432x288 with 2 Axes>"
      ]
     },
     "metadata": {
      "needs_background": "light"
     },
     "output_type": "display_data"
    }
   ],
   "source": [
    "# compute density from T_field\n",
    "g=9.81\n",
    "f=gsw.f(-65)\n",
    "# compute pressure and density\n",
    "p=np.zeros((nx,ny,nr))+gsw.p_from_z(-1*z,-65)\n",
    "print(p.shape)\n",
    "rho=gsw.rho(np.zeros(np.transpose(T_dTdy_3d,(1,2,0)).shape)+30,np.transpose(T_dTdy_3d,(1,2,0)), p.T)\n",
    "rho.shape\n",
    "ds = xr.Dataset()\n",
    "ds['rho'] = (('z', 'y', 'x'), rho)\n",
    "ds['sigma0']=(('z', 'y', 'x'),gsw.sigma0(np.zeros(np.transpose(T_dTdy_3d,(1,2,0)).shape)+30,np.transpose(T_dTdy_3d,(1,2,0))))\n",
    "ds = ds.assign_coords(x=ds.x, y=ds.y, z=ds.z)\n",
    "ds.x.attrs['axis'] = 'X'\n",
    "ds.y.attrs['axis'] = 'Y'\n",
    "ds.z.attrs['axis'] = 'Z'\n",
    "ds = xgcm.generate_grid_ds(ds, {'X':'x', 'Y':'y', 'Z':'z'})\n",
    "grid = xgcm.Grid(ds, periodic=False)\n",
    "ds['dr'] = ('z', dr)\n",
    "rev = -1*(g/f)*grid.cumsum(\n",
    "    (\n",
    "        grid.interp(1/ds.rho, 'Y', boundary='extend') * grid.diff(ds.rho, 'Y', boundary='extend') / (dy*10**3)\n",
    "    ) * ds.dr,\n",
    "    'Z',\n",
    "    boundary='fill',\n",
    "    fill_value=0\n",
    ")\n",
    "velocity = rev.isel(z_left=-1) - rev\n",
    "ds['U_at_T_point'] = grid.interp(velocity, ['Y', 'Z'], boundary='extend')\n",
    "ds['U_at_T_point'].mean('x').plot(y='z', yincrease=False)\n",
    "U_tw=np.asarray(ds.U_at_T_point.transpose(\"x\", \"z\", \"y\"))\n",
    "print(U_tw.shape)\n",
    "U_tw.astype('>f4').tofile(f'Uvel{np.abs(np.int(H))}_tw_20lwdTdy_xzy_{len(dr)}_25km.bin') # I assume the x dimension is read as t dimension "
   ]
  },
  {
   "cell_type": "code",
   "execution_count": 14,
   "metadata": {},
   "outputs": [
    {
     "data": {
      "image/png": "[encoded data removed]",
      "text/plain": [
       "<Figure size 432x288 with 1 Axes>"
      ]
     },
     "metadata": {
      "needs_background": "light"
     },
     "output_type": "display_data"
    }
   ],
   "source": [
    "ds.sigma0.mean(dim={'x','y'}).plot(y=\"z\")\n",
    "plt.gca().invert_yaxis()"
   ]
  },
  {
   "cell_type": "code",
   "execution_count": 15,
   "metadata": {},
   "outputs": [
    {
     "data": {
      "text/html": [
       "<div><svg style=\"position: absolute; width: 0; height: 0; overflow: hidden\">\n",
       "<defs>\n",
       "<symbol id=\"icon-database\" viewBox=\"0 0 32 32\">\n",
       "<path d=\"M16 0c-8.837 0-16 2.239-16 5v4c0 2.761 7.163 5 16 5s16-2.239 16-5v-4c0-2.761-7.163-5-16-5z\"></path>\n",
       "<path d=\"M16 17c-8.837 0-16-2.239-16-5v6c0 2.761 7.163 5 16 5s16-2.239 16-5v-6c0 2.761-7.163 5-16 5z\"></path>\n",
       "<path d=\"M16 26c-8.837 0-16-2.239-16-5v6c0 2.761 7.163 5 16 5s16-2.239 16-5v-6c0 2.761-7.163 5-16 5z\"></path>\n",
       "</symbol>\n",
       "<symbol id=\"icon-file-text2\" viewBox=\"0 0 32 32\">\n",
       "<path d=\"M28.681 7.159c-0.694-0.947-1.662-2.053-2.724-3.116s-2.169-2.030-3.116-2.724c-1.612-1.182-2.393-1.319-2.841-1.319h-15.5c-1.378 0-2.5 1.121-2.5 2.5v27c0 1.378 1.122 2.5 2.5 2.5h23c1.378 0 2.5-1.122 2.5-2.5v-19.5c0-0.448-0.137-1.23-1.319-2.841zM24.543 5.457c0.959 0.959 1.712 1.825 2.268 2.543h-4.811v-4.811c0.718 0.556 1.584 1.309 2.543 2.268zM28 29.5c0 0.271-0.229 0.5-0.5 0.5h-23c-0.271 0-0.5-0.229-0.5-0.5v-27c0-0.271 0.229-0.5 0.5-0.5 0 0 15.499-0 15.5 0v7c0 0.552 0.448 1 1 1h7v19.5z\"></path>\n",
       "<path d=\"M23 26h-14c-0.552 0-1-0.448-1-1s0.448-1 1-1h14c0.552 0 1 0.448 1 1s-0.448 1-1 1z\"></path>\n",
       "<path d=\"M23 22h-14c-0.552 0-1-0.448-1-1s0.448-1 1-1h14c0.552 0 1 0.448 1 1s-0.448 1-1 1z\"></path>\n",
       "<path d=\"M23 18h-14c-0.552 0-1-0.448-1-1s0.448-1 1-1h14c0.552 0 1 0.448 1 1s-0.448 1-1 1z\"></path>\n",
       "</symbol>\n",
       "</defs>\n",
       "</svg>\n",
       "<style>/* CSS stylesheet for displaying xarray objects in jupyterlab.\n",
       " *\n",
       " */\n",
       "\n",
       ":root {\n",
       "  --xr-font-color0: var(--jp-content-font-color0, rgba(0, 0, 0, 1));\n",
       "  --xr-font-color2: var(--jp-content-font-color2, rgba(0, 0, 0, 0.54));\n",
       "  --xr-font-color3: var(--jp-content-font-color3, rgba(0, 0, 0, 0.38));\n",
       "  --xr-border-color: var(--jp-border-color2, #e0e0e0);\n",
       "  --xr-disabled-color: var(--jp-layout-color3, #bdbdbd);\n",
       "  --xr-background-color: var(--jp-layout-color0, white);\n",
       "  --xr-background-color-row-even: var(--jp-layout-color1, white);\n",
       "  --xr-background-color-row-odd: var(--jp-layout-color2, #eeeeee);\n",
       "}\n",
       "\n",
       "html[theme=dark],\n",
       "body.vscode-dark {\n",
       "  --xr-font-color0: rgba(255, 255, 255, 1);\n",
       "  --xr-font-color2: rgba(255, 255, 255, 0.54);\n",
       "  --xr-font-color3: rgba(255, 255, 255, 0.38);\n",
       "  --xr-border-color: #1F1F1F;\n",
       "  --xr-disabled-color: #515151;\n",
       "  --xr-background-color: #111111;\n",
       "  --xr-background-color-row-even: #111111;\n",
       "  --xr-background-color-row-odd: #313131;\n",
       "}\n",
       "\n",
       ".xr-wrap {\n",
       "  display: block;\n",
       "  min-width: 300px;\n",
       "  max-width: 700px;\n",
       "}\n",
       "\n",
       ".xr-text-repr-fallback {\n",
       "  /* fallback to plain text repr when CSS is not injected (untrusted notebook) */\n",
       "  display: none;\n",
       "}\n",
       "\n",
       ".xr-header {\n",
       "  padding-top: 6px;\n",
       "  padding-bottom: 6px;\n",
       "  margin-bottom: 4px;\n",
       "  border-bottom: solid 1px var(--xr-border-color);\n",
       "}\n",
       "\n",
       ".xr-header > div,\n",
       ".xr-header > ul {\n",
       "  display: inline;\n",
       "  margin-top: 0;\n",
       "  margin-bottom: 0;\n",
       "}\n",
       "\n",
       ".xr-obj-type,\n",
       ".xr-array-name {\n",
       "  margin-left: 2px;\n",
       "  margin-right: 10px;\n",
       "}\n",
       "\n",
       ".xr-obj-type {\n",
       "  color: var(--xr-font-color2);\n",
       "}\n",
       "\n",
       ".xr-sections {\n",
       "  padding-left: 0 !important;\n",
       "  display: grid;\n",
       "  grid-template-columns: 150px auto auto 1fr 20px 20px;\n",
       "}\n",
       "\n",
       ".xr-section-item {\n",
       "  display: contents;\n",
       "}\n",
       "\n",
       ".xr-section-item input {\n",
       "  display: none;\n",
       "}\n",
       "\n",
       ".xr-section-item input + label {\n",
       "  color: var(--xr-disabled-color);\n",
       "}\n",
       "\n",
       ".xr-section-item input:enabled + label {\n",
       "  cursor: pointer;\n",
       "  color: var(--xr-font-color2);\n",
       "}\n",
       "\n",
       ".xr-section-item input:enabled + label:hover {\n",
       "  color: var(--xr-font-color0);\n",
       "}\n",
       "\n",
       ".xr-section-summary {\n",
       "  grid-column: 1;\n",
       "  color: var(--xr-font-color2);\n",
       "  font-weight: 500;\n",
       "}\n",
       "\n",
       ".xr-section-summary > span {\n",
       "  display: inline-block;\n",
       "  padding-left: 0.5em;\n",
       "}\n",
       "\n",
       ".xr-section-summary-in:disabled + label {\n",
       "  color: var(--xr-font-color2);\n",
       "}\n",
       "\n",
       ".xr-section-summary-in + label:before {\n",
       "  display: inline-block;\n",
       "  content: '►';\n",
       "  font-size: 11px;\n",
       "  width: 15px;\n",
       "  text-align: center;\n",
       "}\n",
       "\n",
       ".xr-section-summary-in:disabled + label:before {\n",
       "  color: var(--xr-disabled-color);\n",
       "}\n",
       "\n",
       ".xr-section-summary-in:checked + label:before {\n",
       "  content: '▼';\n",
       "}\n",
       "\n",
       ".xr-section-summary-in:checked + label > span {\n",
       "  display: none;\n",
       "}\n",
       "\n",
       ".xr-section-summary,\n",
       ".xr-section-inline-details {\n",
       "  padding-top: 4px;\n",
       "  padding-bottom: 4px;\n",
       "}\n",
       "\n",
       ".xr-section-inline-details {\n",
       "  grid-column: 2 / -1;\n",
       "}\n",
       "\n",
       ".xr-section-details {\n",
       "  display: none;\n",
       "  grid-column: 1 / -1;\n",
       "  margin-bottom: 5px;\n",
       "}\n",
       "\n",
       ".xr-section-summary-in:checked ~ .xr-section-details {\n",
       "  display: contents;\n",
       "}\n",
       "\n",
       ".xr-array-wrap {\n",
       "  grid-column: 1 / -1;\n",
       "  display: grid;\n",
       "  grid-template-columns: 20px auto;\n",
       "}\n",
       "\n",
       ".xr-array-wrap > label {\n",
       "  grid-column: 1;\n",
       "  vertical-align: top;\n",
       "}\n",
       "\n",
       ".xr-preview {\n",
       "  color: var(--xr-font-color3);\n",
       "}\n",
       "\n",
       ".xr-array-preview,\n",
       ".xr-array-data {\n",
       "  padding: 0 5px !important;\n",
       "  grid-column: 2;\n",
       "}\n",
       "\n",
       ".xr-array-data,\n",
       ".xr-array-in:checked ~ .xr-array-preview {\n",
       "  display: none;\n",
       "}\n",
       "\n",
       ".xr-array-in:checked ~ .xr-array-data,\n",
       ".xr-array-preview {\n",
       "  display: inline-block;\n",
       "}\n",
       "\n",
       ".xr-dim-list {\n",
       "  display: inline-block !important;\n",
       "  list-style: none;\n",
       "  padding: 0 !important;\n",
       "  margin: 0;\n",
       "}\n",
       "\n",
       ".xr-dim-list li {\n",
       "  display: inline-block;\n",
       "  padding: 0;\n",
       "  margin: 0;\n",
       "}\n",
       "\n",
       ".xr-dim-list:before {\n",
       "  content: '(';\n",
       "}\n",
       "\n",
       ".xr-dim-list:after {\n",
       "  content: ')';\n",
       "}\n",
       "\n",
       ".xr-dim-list li:not(:last-child):after {\n",
       "  content: ',';\n",
       "  padding-right: 5px;\n",
       "}\n",
       "\n",
       ".xr-has-index {\n",
       "  font-weight: bold;\n",
       "}\n",
       "\n",
       ".xr-var-list,\n",
       ".xr-var-item {\n",
       "  display: contents;\n",
       "}\n",
       "\n",
       ".xr-var-item > div,\n",
       ".xr-var-item label,\n",
       ".xr-var-item > .xr-var-name span {\n",
       "  background-color: var(--xr-background-color-row-even);\n",
       "  margin-bottom: 0;\n",
       "}\n",
       "\n",
       ".xr-var-item > .xr-var-name:hover span {\n",
       "  padding-right: 5px;\n",
       "}\n",
       "\n",
       ".xr-var-list > li:nth-child(odd) > div,\n",
       ".xr-var-list > li:nth-child(odd) > label,\n",
       ".xr-var-list > li:nth-child(odd) > .xr-var-name span {\n",
       "  background-color: var(--xr-background-color-row-odd);\n",
       "}\n",
       "\n",
       ".xr-var-name {\n",
       "  grid-column: 1;\n",
       "}\n",
       "\n",
       ".xr-var-dims {\n",
       "  grid-column: 2;\n",
       "}\n",
       "\n",
       ".xr-var-dtype {\n",
       "  grid-column: 3;\n",
       "  text-align: right;\n",
       "  color: var(--xr-font-color2);\n",
       "}\n",
       "\n",
       ".xr-var-preview {\n",
       "  grid-column: 4;\n",
       "}\n",
       "\n",
       ".xr-var-name,\n",
       ".xr-var-dims,\n",
       ".xr-var-dtype,\n",
       ".xr-preview,\n",
       ".xr-attrs dt {\n",
       "  white-space: nowrap;\n",
       "  overflow: hidden;\n",
       "  text-overflow: ellipsis;\n",
       "  padding-right: 10px;\n",
       "}\n",
       "\n",
       ".xr-var-name:hover,\n",
       ".xr-var-dims:hover,\n",
       ".xr-var-dtype:hover,\n",
       ".xr-attrs dt:hover {\n",
       "  overflow: visible;\n",
       "  width: auto;\n",
       "  z-index: 1;\n",
       "}\n",
       "\n",
       ".xr-var-attrs,\n",
       ".xr-var-data {\n",
       "  display: none;\n",
       "  background-color: var(--xr-background-color) !important;\n",
       "  padding-bottom: 5px !important;\n",
       "}\n",
       "\n",
       ".xr-var-attrs-in:checked ~ .xr-var-attrs,\n",
       ".xr-var-data-in:checked ~ .xr-var-data {\n",
       "  display: block;\n",
       "}\n",
       "\n",
       ".xr-var-data > table {\n",
       "  float: right;\n",
       "}\n",
       "\n",
       ".xr-var-name span,\n",
       ".xr-var-data,\n",
       ".xr-attrs {\n",
       "  padding-left: 25px !important;\n",
       "}\n",
       "\n",
       ".xr-attrs,\n",
       ".xr-var-attrs,\n",
       ".xr-var-data {\n",
       "  grid-column: 1 / -1;\n",
       "}\n",
       "\n",
       "dl.xr-attrs {\n",
       "  padding: 0;\n",
       "  margin: 0;\n",
       "  display: grid;\n",
       "  grid-template-columns: 125px auto;\n",
       "}\n",
       "\n",
       ".xr-attrs dt,\n",
       ".xr-attrs dd {\n",
       "  padding: 0;\n",
       "  margin: 0;\n",
       "  float: left;\n",
       "  padding-right: 10px;\n",
       "  width: auto;\n",
       "}\n",
       "\n",
       ".xr-attrs dt {\n",
       "  font-weight: normal;\n",
       "  grid-column: 1;\n",
       "}\n",
       "\n",
       ".xr-attrs dt:hover span {\n",
       "  display: inline-block;\n",
       "  background: var(--xr-background-color);\n",
       "  padding-right: 10px;\n",
       "}\n",
       "\n",
       ".xr-attrs dd {\n",
       "  grid-column: 2;\n",
       "  white-space: pre-wrap;\n",
       "  word-break: break-all;\n",
       "}\n",
       "\n",
       ".xr-icon-database,\n",
       ".xr-icon-file-text2 {\n",
       "  display: inline-block;\n",
       "  vertical-align: middle;\n",
       "  width: 1em;\n",
       "  height: 1.5em !important;\n",
       "  stroke-width: 0;\n",
       "  stroke: currentColor;\n",
       "  fill: currentColor;\n",
       "}\n",
       "</style><pre class='xr-text-repr-fallback'>&lt;xarray.DataArray &#x27;U_at_T_point&#x27; ()&gt;\n",
       "array(-0.02688064)\n",
       "Coordinates:\n",
       "    x        int64 59</pre><div class='xr-wrap' hidden><div class='xr-header'><div class='xr-obj-type'>xarray.DataArray</div><div class='xr-array-name'>'U_at_T_point'</div></div><ul class='xr-sections'><li class='xr-section-item'><div class='xr-array-wrap'><input id='section-44c0ae36-ca9c-4377-a25a-13cc58f9bed8' class='xr-array-in' type='checkbox' checked><label for='section-44c0ae36-ca9c-4377-a25a-13cc58f9bed8' title='Show/hide data repr'><svg class='icon xr-icon-database'><use xlink:href='#icon-database'></use></svg></label><div class='xr-array-preview xr-preview'><span>-0.02688</span></div><div class='xr-array-data'><pre>array(-0.02688064)</pre></div></div></li><li class='xr-section-item'><input id='section-8972b44b-5a52-4e2a-81fd-ef5fba8c48d8' class='xr-section-summary-in' type='checkbox'  checked><label for='section-8972b44b-5a52-4e2a-81fd-ef5fba8c48d8' class='xr-section-summary' >Coordinates: <span>(1)</span></label><div class='xr-section-inline-details'></div><div class='xr-section-details'><ul class='xr-var-list'><li class='xr-var-item'><div class='xr-var-name'><span>x</span></div><div class='xr-var-dims'>()</div><div class='xr-var-dtype'>int64</div><div class='xr-var-preview xr-preview'>59</div><input id='attrs-54d6484a-3d8b-494c-a25d-1f752f9bedec' class='xr-var-attrs-in' type='checkbox' ><label for='attrs-54d6484a-3d8b-494c-a25d-1f752f9bedec' title='Show/Hide attributes'><svg class='icon xr-icon-file-text2'><use xlink:href='#icon-file-text2'></use></svg></label><input id='data-2a92c732-3725-4177-8c5f-88822d9fed64' class='xr-var-data-in' type='checkbox'><label for='data-2a92c732-3725-4177-8c5f-88822d9fed64' title='Show/Hide data repr'><svg class='icon xr-icon-database'><use xlink:href='#icon-database'></use></svg></label><div class='xr-var-attrs'><dl class='xr-attrs'><dt><span>axis :</span></dt><dd>X</dd></dl></div><div class='xr-var-data'><pre>array(59)</pre></div></li></ul></div></li><li class='xr-section-item'><input id='section-a25edd31-30d7-41f9-bba0-045305ea8889' class='xr-section-summary-in' type='checkbox' disabled ><label for='section-a25edd31-30d7-41f9-bba0-045305ea8889' class='xr-section-summary'  title='Expand/collapse section'>Attributes: <span>(0)</span></label><div class='xr-section-inline-details'></div><div class='xr-section-details'><dl class='xr-attrs'></dl></div></li></ul></div></div>"
      ],
      "text/plain": [
       "<xarray.DataArray 'U_at_T_point' ()>\n",
       "array(-0.02688064)\n",
       "Coordinates:\n",
       "    x        int64 59"
      ]
     },
     "execution_count": 15,
     "metadata": {},
     "output_type": "execute_result"
    }
   ],
   "source": [
    "ds.U_at_T_point.isel(x=59).mean(dim={'y','z'})"
   ]
  },
  {
   "cell_type": "code",
   "execution_count": 16,
   "metadata": {},
   "outputs": [
    {
     "name": "stdout",
     "output_type": "stream",
     "text": [
      "-0.1268806392123335\n",
      "(60, 100, 40)\n"
     ]
    },
    {
     "data": {
      "image/png": "[encoded data removed]",
      "text/plain": [
       "<Figure size 432x288 with 2 Axes>"
      ]
     },
     "metadata": {
      "needs_background": "light"
     },
     "output_type": "display_data"
    }
   ],
   "source": [
    "# add to the thermal wind a barotropic component\n",
    "U_utw=U_tw-0.1\n",
    "print(U_utw[59,:,:].mean(axis=1).mean(axis=0))\n",
    "plt.pcolormesh(U_utw[59,:,:])\n",
    "plt.colorbar()\n",
    "plt.gca().invert_yaxis()\n",
    "print(U_utw.shape)\n",
    "U_utw.astype('>f4').tofile(f'Uvel{np.abs(np.int(H))}_u01tw_20lwdTdy_xzy_{len(dr)}_25km.bin') # I assume the x dimension is read as t dimension "
   ]
  },
  {
   "cell_type": "code",
   "execution_count": 17,
   "metadata": {},
   "outputs": [
    {
     "name": "stdout",
     "output_type": "stream",
     "text": [
      "0.01\n",
      "-0.03688063921233351\n",
      "(60, 100, 40)\n",
      "1\n",
      "0.02\n",
      "-0.04688063921233351\n",
      "(60, 100, 40)\n",
      "2\n",
      "0.05\n",
      "-0.07688063921233351\n",
      "(60, 100, 40)\n",
      "5\n",
      "0.08\n",
      "-0.10688063921233353\n",
      "(60, 100, 40)\n",
      "8\n",
      "0.25\n",
      "-0.2768806392123335\n",
      "(60, 100, 40)\n"
     ]
    }
   ],
   "source": [
    "# add to the thermal wind different barotropic components\n",
    "ubaro=[0.01,0.02,0.05,0.08]\n",
    "\n",
    "for i in range (0,len(ubaro)):\n",
    "    print(ubaro[i])\n",
    "    U_utw=U_tw-ubaro[i]\n",
    "    print(U_utw[59,:,:].mean(axis=1).mean(axis=0))\n",
    "    print(U_utw.shape)\n",
    "    print(np.int(ubaro[i]*100))\n",
    "    U_utw.astype('>f4').tofile(f'Uvel{np.abs(np.int(H))}_u00{np.int(ubaro[i]*100)}tw_20lwdTdy_xzy_{len(dr)}_{dx}km.bin') # I assume the x dimension is read as t dimension \n",
    "    \n",
    "ubaro=[0.12,0.15,0.18,0.20]\n",
    "ubaro=[0.25]\n",
    "for i in range (0,len(ubaro)):\n",
    "    print(ubaro[i])\n",
    "    U_utw=U_tw-ubaro[i]\n",
    "    print(U_utw[59,:,:].mean(axis=1).mean(axis=0))\n",
    "    print(U_utw.shape)\n",
    "    U_utw.astype('>f4').tofile(f'Uvel{np.abs(np.int(H))}_u0{np.int(ubaro[i]*100)}tw_20lwdTdy_xzy_{len(dr)}_{dx}km.bin') # I assume the x dimension is read as t dimension "
   ]
  },
  {
   "cell_type": "code",
   "execution_count": 18,
   "metadata": {},
   "outputs": [
    {
     "name": "stdout",
     "output_type": "stream",
     "text": [
      "(100, 40)\n",
      "(100, 40, 60)\n",
      "(60, 40, 100)\n",
      "<xarray.DataArray 'U_at_T_point' ()>\n",
      "array(-0.13442647)\n",
      "Coordinates:\n",
      "    x        int64 59\n",
      "(60, 100, 40)\n"
     ]
    },
    {
     "data": {
      "image/png": "[encoded data removed]",
      "text/plain": [
       "<Figure size 432x288 with 2 Axes>"
      ]
     },
     "metadata": {
      "needs_background": "light"
     },
     "output_type": "display_data"
    }
   ],
   "source": [
    "# increase the meridional gradient so that the thermal wind verlocities are approx -0.1 m/s\n",
    "# add to the linear stratification a meridional gradient, but keep the meridional average as in the 20 equal layers\n",
    "T_20l_dTdy=np.zeros((100,40))\n",
    "print(T_20l_dTdy.shape)\n",
    "for zz in range(0,100):\n",
    "        T_20l_dTdy[zz,:]=Tprof100[zz]+(Tprof100[zz]/ny)*(-19.5+Y/dy)\n",
    "        \n",
    "T_20l_dTdy_ini=np.repeat(T_20l_dTdy[ :, :,np.newaxis], nx, axis=2)\n",
    "print(T_20l_dTdy_ini.shape)\n",
    "T_dTdy_3d=np.repeat(T_20l_dTdy[np.newaxis, :, :], nx, axis=0)\n",
    "T_dTdy_3d.shape\n",
    "T_20l_dTdy_ini.astype('>f4').tofile(f'T{np.abs(np.int(H))}_ini20l_wdTdy_tw01_{len(dr)}_25km.bin')\n",
    "T_dTdy_3d.astype('>f4').tofile(f'T{np.abs(np.int(H))}_obcs20l_wdTdy_tw01_{len(dr)}_25km.bin')\n",
    "# compute density from T_field\n",
    "g=9.81\n",
    "f=gsw.f(-65)\n",
    "# compute pressure and density\n",
    "p=np.zeros((nx,ny,nr))+gsw.p_from_z(-1*z,-65)\n",
    "print(p.shape)\n",
    "rho=gsw.rho(np.zeros(np.transpose(T_dTdy_3d,(1,2,0)).shape)+30,np.transpose(T_dTdy_3d,(1,2,0)), p.T)\n",
    "rho.shape\n",
    "ds = xr.Dataset()\n",
    "ds['rho'] = (('z', 'y', 'x'), rho)\n",
    "ds['sigma0']=(('z', 'y', 'x'),gsw.sigma0(np.zeros(np.transpose(T_dTdy_3d,(1,2,0)).shape)+30,np.transpose(T_dTdy_3d,(1,2,0))))\n",
    "ds = ds.assign_coords(x=ds.x, y=ds.y, z=ds.z)\n",
    "ds.x.attrs['axis'] = 'X'\n",
    "ds.y.attrs['axis'] = 'Y'\n",
    "ds.z.attrs['axis'] = 'Z'\n",
    "ds = xgcm.generate_grid_ds(ds, {'X':'x', 'Y':'y', 'Z':'z'})\n",
    "grid = xgcm.Grid(ds, periodic=False)\n",
    "ds['dr'] = ('z', dr)\n",
    "rev = -1*(g/f)*grid.cumsum(\n",
    "    (\n",
    "        grid.interp(1/ds.rho, 'Y', boundary='extend') * grid.diff(ds.rho, 'Y', boundary='extend') / (dy*10**3)\n",
    "    ) * ds.dr,\n",
    "    'Z',\n",
    "    boundary='fill',\n",
    "    fill_value=0\n",
    ")\n",
    "velocity = rev.isel(z_left=-1) - rev\n",
    "ds['U_at_T_point'] = grid.interp(velocity, ['Y', 'Z'], boundary='extend')\n",
    "ds['U_at_T_point'].mean('x').plot(y='z', yincrease=False)\n",
    "print(ds.U_at_T_point.isel(x=59).mean(dim={'y','z'}))\n",
    "U_tw=np.asarray(ds.U_at_T_point.transpose(\"x\", \"z\", \"y\"))\n",
    "print(U_tw.shape)\n",
    "U_tw.astype('>f4').tofile(f'Uvel{np.abs(np.int(H))}_tw01_20lwdTdy_xzy_{len(dr)}_25km.bin') # I assume the x dimension is read as t dimension "
   ]
  },
  {
   "cell_type": "code",
   "execution_count": 22,
   "metadata": {},
   "outputs": [
    {
     "data": {
      "image/png": "[encoded data removed]",
      "text/plain": [
       "<Figure size 432x288 with 1 Axes>"
      ]
     },
     "metadata": {
      "needs_background": "light"
     },
     "output_type": "display_data"
    }
   ],
   "source": [
    "ds.sigma0.mean(dim={'x','y'}).plot(y=\"z\")\n",
    "plt.gca().invert_yaxis()"
   ]
  },
  {
   "cell_type": "markdown",
   "metadata": {},
   "source": [
    "# Have an e-folding temperature scale"
   ]
  },
  {
   "cell_type": "code",
   "execution_count": 45,
   "metadata": {},
   "outputs": [
    {
     "name": "stdout",
     "output_type": "stream",
     "text": [
      "(100, 40, 60)\n"
     ]
    },
    {
     "data": {
      "image/png": "[encoded data removed]",
      "text/plain": [
       "<Figure size 432x288 with 2 Axes>"
      ]
     },
     "metadata": {
      "needs_background": "light"
     },
     "output_type": "display_data"
    }
   ],
   "source": [
    "Tmax = 10.\n",
    "Tmin = 1.\n",
    "# 3-D Temperature field for initial conditions and RBCS northern wall profile\n",
    "h = 1000             # e-folding scale for temperature decrease with depth\n",
    "T_surf = np.zeros([ny, nx]) + np.reshape(\n",
    "            Tmin + (Tmax-Tmin)/ny * np.linspace(0.5,39.5,ny),[ny,1]) # at (XC,YC) points\n",
    "zscale = (exp(-z/h) - exp(H/h)) / (1 - exp(H/h))\n",
    "zscale = np.reshape(zscale, [nr,1,1])\n",
    "T_3D = np.reshape(T_surf - Tmin, [1,ny,nx]) * zscale + Tmin\n",
    "print(T_3D.shape)\n",
    "plt.pcolormesh(T_3D[:,:,10])\n",
    "plt.colorbar()\n",
    "\n",
    "plt.gca().invert_yaxis()\n",
    "\n",
    "\n",
    "T_3D.astype('>f4').tofile(f'T{np.abs(np.int(H))}_ini_escale_tw_{len(dr)}_25km.bin')"
   ]
  },
  {
   "cell_type": "code",
   "execution_count": 46,
   "metadata": {},
   "outputs": [
    {
     "data": {
      "text/plain": [
       "Text(0, 0.5, 'Y-distance [km]')"
      ]
     },
     "execution_count": 46,
     "metadata": {},
     "output_type": "execute_result"
    },
    {
     "data": {
      "image/png": "[encoded data removed]",
      "text/plain": [
       "<Figure size 432x288 with 2 Axes>"
      ]
     },
     "metadata": {
      "needs_background": "light"
     },
     "output_type": "display_data"
    }
   ],
   "source": [
    "import cmocean.cm as cmo\n",
    "plt.pcolormesh(T_3D[0,:,:],cmap=cmo.thermal)\n",
    "plt.colorbar()\n",
    "plt.xlabel('X-distance [km]')\n",
    "plt.ylabel('Y-distance [km]')"
   ]
  },
  {
   "cell_type": "code",
   "execution_count": 47,
   "metadata": {},
   "outputs": [
    {
     "name": "stdout",
     "output_type": "stream",
     "text": [
      "(100, 40, 60)\n"
     ]
    }
   ],
   "source": [
    "# create boundary files for obcs with dimension t(=x),z,y\n",
    "print(T_3D.shape)\n",
    "Tobcstw=np.transpose(T_3D,(2,0,1))\n",
    "Tobcstw.shape\n",
    "\n",
    "Tobcstw.astype('>f4').tofile(f'T{np.abs(np.int(H))}_obcs_escale_tw_{len(dr)}_25km.bin')"
   ]
  },
  {
   "cell_type": "code",
   "execution_count": 48,
   "metadata": {},
   "outputs": [
    {
     "data": {
      "image/png": "[encoded data removed]",
      "text/plain": [
       "<Figure size 432x288 with 1 Axes>"
      ]
     },
     "metadata": {
      "needs_background": "light"
     },
     "output_type": "display_data"
    }
   ],
   "source": [
    "\n",
    "#plt.plot(Tprof100,-1*z)\n",
    "plt.plot(T_3D[:,0,0],-1*z,color='r')\n",
    "plt.plot(T_3D[:,20,0],-1*z,color='r',ls=':')\n",
    "plt.plot(T_3D[:,-1,0],-1*z,color='r',ls='--')\n",
    "plt.plot(np.mean(T_3D,axis=1)[:,59],-1*z,color='y',ls='--')\n",
    "plt.grid()"
   ]
  },
  {
   "cell_type": "code",
   "execution_count": 49,
   "metadata": {},
   "outputs": [
    {
     "name": "stdout",
     "output_type": "stream",
     "text": [
      "(60, 40, 100)\n"
     ]
    },
    {
     "data": {
      "text/plain": [
       "(100, 40, 60)"
      ]
     },
     "execution_count": 49,
     "metadata": {},
     "output_type": "execute_result"
    }
   ],
   "source": [
    "# compute density from T_field\n",
    "g=9.81\n",
    "f=gsw.f(-65)\n",
    "# compute pressure and density\n",
    "p=np.zeros((nx,ny,nr))+gsw.p_from_z(-1*z,-65)\n",
    "print(p.shape)\n",
    "rho=gsw.rho(np.zeros(T_3D.shape)+30,T_3D, p.T)\n",
    "rho.shape"
   ]
  },
  {
   "cell_type": "code",
   "execution_count": 50,
   "metadata": {},
   "outputs": [
    {
     "name": "stderr",
     "output_type": "stream",
     "text": [
      "<ipython-input-50-b0457f5c5ae4>:1: MatplotlibDeprecationWarning: shading='flat' when X and Y have the same dimensions as C is deprecated since 3.3.  Either specify the corners of the quadrilaterals with X and Y, or pass shading='auto', 'nearest' or 'gouraud', or set rcParams['pcolor.shading'].  This will become an error two minor releases later.\n",
      "  plt.pcolormesh(Y,z,rho[:,:,59])\n"
     ]
    },
    {
     "data": {
      "text/plain": [
       "Text(0, 0.5, 'Depth [m]')"
      ]
     },
     "execution_count": 50,
     "metadata": {},
     "output_type": "execute_result"
    },
    {
     "data": {
      "image/png": "[encoded data removed]",
      "text/plain": [
       "<Figure size 432x288 with 2 Axes>"
      ]
     },
     "metadata": {
      "needs_background": "light"
     },
     "output_type": "display_data"
    }
   ],
   "source": [
    "plt.pcolormesh(Y,z,rho[:,:,59])\n",
    "plt.colorbar()\n",
    "plt.contour(Y,z[:],T_3D[:,:,59])\n",
    "\n",
    "\n",
    "plt.gca().invert_yaxis()\n",
    "plt.xlabel('Y-distance [km]')\n",
    "plt.ylabel('Depth [m]')"
   ]
  },
  {
   "cell_type": "code",
   "execution_count": 51,
   "metadata": {},
   "outputs": [],
   "source": [
    "# compute thermal wind"
   ]
  },
  {
   "cell_type": "code",
   "execution_count": 52,
   "metadata": {},
   "outputs": [],
   "source": [
    "ds = xr.Dataset()\n",
    "ds['rho'] = (('z', 'y', 'x'), rho)\n",
    "ds['sigma0']=(('z', 'y', 'x'),gsw.sigma0(np.zeros((T_3D.shape))+30,T_3D))\n",
    "ds = ds.assign_coords(x=ds.x, y=ds.y, z=ds.z)\n",
    "ds.x.attrs['axis'] = 'X'\n",
    "ds.y.attrs['axis'] = 'Y'\n",
    "ds.z.attrs['axis'] = 'Z'\n",
    "ds = xgcm.generate_grid_ds(ds, {'X':'x', 'Y':'y', 'Z':'z'})\n",
    "grid = xgcm.Grid(ds, periodic=False)\n",
    "ds['dr'] = ('z', dr)"
   ]
  },
  {
   "cell_type": "code",
   "execution_count": 53,
   "metadata": {},
   "outputs": [
    {
     "data": {
      "text/plain": [
       "<matplotlib.collections.QuadMesh at 0x7f5cdb045af0>"
      ]
     },
     "execution_count": 53,
     "metadata": {},
     "output_type": "execute_result"
    },
    {
     "data": {
      "image/png": "[encoded data removed]",
      "text/plain": [
       "<Figure size 432x288 with 2 Axes>"
      ]
     },
     "metadata": {
      "needs_background": "light"
     },
     "output_type": "display_data"
    }
   ],
   "source": [
    "rev = -1*(g/f)*grid.cumsum(\n",
    "    (\n",
    "        grid.interp(1/ds.rho, 'Y', boundary='extend') * grid.diff(ds.rho, 'Y', boundary='extend') / (dy*10**3)\n",
    "    ) * ds.dr,\n",
    "    'Z',\n",
    "    boundary='fill',\n",
    "    fill_value=0\n",
    ")\n",
    "velocity = rev.isel(z_left=-1) - rev\n",
    "ds['U_at_T_point'] = grid.interp(velocity, ['Y', 'Z'], boundary='extend')\n",
    "ds['U_at_T_point'].mean('x').plot(y='z', yincrease=False)"
   ]
  },
  {
   "cell_type": "code",
   "execution_count": 54,
   "metadata": {},
   "outputs": [
    {
     "data": {
      "image/png": "[encoded data removed]",
      "text/plain": [
       "<Figure size 432x288 with 1 Axes>"
      ]
     },
     "metadata": {
      "needs_background": "light"
     },
     "output_type": "display_data"
    }
   ],
   "source": [
    "ds.sigma0.mean(dim={'x','y'}).plot(y=\"z\")\n",
    "plt.gca().invert_yaxis()\n",
    "plt.grid()"
   ]
  },
  {
   "cell_type": "code",
   "execution_count": 60,
   "metadata": {},
   "outputs": [
    {
     "name": "stdout",
     "output_type": "stream",
     "text": [
      "(60, 100, 40)\n"
     ]
    }
   ],
   "source": [
    "U_tw=np.asarray(ds.U_at_T_point.transpose(\"x\", \"z\", \"y\"))\n",
    "print(U_tw.shape)\n",
    "U_tw.astype('>f4').tofile(f'Uvel{np.abs(np.int(H))}_escale_tw_xzy_{len(dr)}_25km.bin') # I assume the x dimension is read as t dimension "
   ]
  },
  {
   "cell_type": "code",
   "execution_count": 61,
   "metadata": {},
   "outputs": [
    {
     "name": "stdout",
     "output_type": "stream",
     "text": [
      "(60, 100, 40)\n"
     ]
    }
   ],
   "source": [
    "# add a barotropic component\n",
    "U_tw=np.asarray(ds.U_at_T_point.transpose(\"x\", \"z\", \"y\"))-0.1\n",
    "print(U_tw.shape)\n",
    "U_tw.astype('>f4').tofile(f'Uvel{np.abs(np.int(H))}_escale_u01tw_xzy_{len(dr)}_25km.bin') # I assume the x dimension is read as t dimension "
   ]
  },
  {
   "cell_type": "code",
   "execution_count": 57,
   "metadata": {},
   "outputs": [
    {
     "data": {
      "text/plain": [
       "array([-0.002633  , -0.00526776, -0.00527131, -0.00527485, -0.00527839,\n",
       "       -0.00528193, -0.00528547, -0.005289  , -0.00529254, -0.00529607,\n",
       "       -0.00529961, -0.00530314, -0.00530667, -0.0053102 , -0.00531373,\n",
       "       -0.00531726, -0.00532078, -0.00532431, -0.00532783, -0.00533136,\n",
       "       -0.00533488, -0.0053384 , -0.00534192, -0.00534544, -0.00534896,\n",
       "       -0.00535248, -0.00535599, -0.00535951, -0.00536302, -0.00536653,\n",
       "       -0.00537004, -0.00537355, -0.00537706, -0.00538057, -0.00538408,\n",
       "       -0.00538758, -0.00539109, -0.00539459, -0.00539809, -0.00539984])"
      ]
     },
     "execution_count": 57,
     "metadata": {},
     "output_type": "execute_result"
    }
   ],
   "source": [
    "U_tw[59,50,:]"
   ]
  },
  {
   "cell_type": "code",
   "execution_count": null,
   "metadata": {},
   "outputs": [],
   "source": []
  },
  {
   "cell_type": "code",
   "execution_count": null,
   "metadata": {},
   "outputs": [],
   "source": []
  }
 ],
 "metadata": {
  "kernelspec": {
   "display_name": "Python 3",
   "language": "python",
   "name": "python3"
  },
  "language_info": {
   "codemirror_mode": {
    "name": "ipython",
    "version": 3
   },
   "file_extension": ".py",
   "mimetype": "text/x-python",
   "name": "python",
   "nbconvert_exporter": "python",
   "pygments_lexer": "ipython3",
   "version": "3.8.5"
  }
 },
 "nbformat": 4,
 "nbformat_minor": 4
}
